{
  "nbformat": 4,
  "nbformat_minor": 0,
  "metadata": {
    "colab": {
      "name": "Copy of Untitled3.ipynb",
      "provenance": [],
      "authorship_tag": "ABX9TyM8Gt3eFeJbiu6Sf4akjgmt",
      "include_colab_link": true
    },
    "kernelspec": {
      "name": "python3",
      "display_name": "Python 3"
    },
    "language_info": {
      "name": "python"
    }
  },
  "cells": [
    {
      "cell_type": "markdown",
      "metadata": {
        "id": "view-in-github",
        "colab_type": "text"
      },
      "source": [
        "<a href=\"https://colab.research.google.com/github/sharanabasavaJNV/mltlab/blob/main/naive.ipynb\" target=\"_parent\"><img src=\"https://colab.research.google.com/assets/colab-badge.svg\" alt=\"Open In Colab\"/></a>"
      ]
    },
    {
      "cell_type": "code",
      "metadata": {
        "id": "nJUtIMpCXDBI"
      },
      "source": [
        "import numpy as np\n",
        "import math\n",
        "import csv"
      ],
      "execution_count": null,
      "outputs": []
    },
    {
      "cell_type": "code",
      "metadata": {
        "id": "9OJ-VSf4XMCI"
      },
      "source": [
        "def read_data(naive):\n",
        "    with open(naive, 'r') as csvfile:\n",
        "        datareader = csv.reader(csvfile, delimiter=',')\n",
        "        headers = next(datareader)\n",
        "        metadata = []\n",
        "        traindata = []\n",
        "        for name in headers:\n",
        "            metadata.append(name)\n",
        "        for row in datareader:\n",
        "            traindata.append(row)\n",
        "\n",
        "    return (metadata, traindata)"
      ],
      "execution_count": null,
      "outputs": []
    },
    {
      "cell_type": "code",
      "metadata": {
        "id": "IG3J6GHSYMVK"
      },
      "source": [
        "class Node:\n",
        "    def __init__(self, attribute):\n",
        "        self.attribute = attribute\n",
        "        self.children = []\n",
        "        self.answer = \"\"\n",
        "        \n",
        "    def __str__(self):\n",
        "        return self.attribute"
      ],
      "execution_count": null,
      "outputs": []
    },
    {
      "cell_type": "code",
      "metadata": {
        "id": "jIj32n5eYWuV"
      },
      "source": [
        "def subtables(data, col, delete):\n",
        "    dict = {}\n",
        "    items = np.unique(data[:, col])\n",
        "    count = np.zeros((items.shape[0], 1), dtype=np.int32)    \n",
        "    \n",
        "    for x in range(items.shape[0]):\n",
        "        for y in range(data.shape[0]):\n",
        "            if data[y, col] == items[x]:\n",
        "                count[x] += 1\n",
        "                \n",
        "    for x in range(items.shape[0]):\n",
        "        dict[items[x]] = np.empty((int(count[x]), data.shape[1]), dtype=\"|S32\")\n",
        "        pos = 0\n",
        "        for y in range(data.shape[0]):\n",
        "            if data[y, col] == items[x]:\n",
        "                dict[items[x]][pos] = data[y]\n",
        "                pos += 1       \n",
        "        if delete:\n",
        "            dict[items[x]] = np.delete(dict[items[x]], col, 1)\n",
        "        \n",
        "    return items, dict"
      ],
      "execution_count": null,
      "outputs": []
    },
    {
      "cell_type": "code",
      "metadata": {
        "id": "wz4xqp00YbME"
      },
      "source": [
        "def entropy(S):\n",
        "    items = np.unique(S)\n",
        "\n",
        "    if items.size == 1:\n",
        "        return 0\n",
        "    \n",
        "    counts = np.zeros((items.shape[0], 1))\n",
        "    sums = 0\n",
        "    \n",
        "    for x in range(items.shape[0]):\n",
        "        counts[x] = sum(S == items[x]) / (S.size * 1.0)\n",
        "\n",
        "    for count in counts:\n",
        "        sums += -1 * count * math.log(count, 2)\n",
        "    return sums"
      ],
      "execution_count": null,
      "outputs": []
    },
    {
      "cell_type": "code",
      "metadata": {
        "id": "oi2DAnkdYct3"
      },
      "source": [
        "def gain_ratio(data, col):\n",
        "    items, dict = subtables(data, col, delete=False) \n",
        "                \n",
        "    total_size = data.shape[0]\n",
        "    entropies = np.zeros((items.shape[0], 1))\n",
        "    intrinsic = np.zeros((items.shape[0], 1))\n",
        "    \n",
        "    for x in range(items.shape[0]):\n",
        "        ratio = dict[items[x]].shape[0]/(total_size * 1.0)\n",
        "        entropies[x] = ratio * entropy(dict[items[x]][:, -1])\n",
        "        intrinsic[x] = ratio * math.log(ratio, 2)\n",
        "        \n",
        "    total_entropy = entropy(data[:, -1])\n",
        "    iv = -1 * sum(intrinsic)\n",
        "    \n",
        "    for x in range(entropies.shape[0]):\n",
        "        total_entropy -= entropies[x]\n",
        "        \n",
        "    return total_entropy / iv"
      ],
      "execution_count": null,
      "outputs": []
    },
    {
      "cell_type": "code",
      "metadata": {
        "id": "gzuWGzULYjxl"
      },
      "source": [
        "def create_node(data, metadata):\n",
        "    if (np.unique(data[:, -1])).shape[0] == 1:\n",
        "        node = Node(\"\")\n",
        "        node.answer = np.unique(data[:, -1])[0]\n",
        "        return node\n",
        "        \n",
        "    gains = np.zeros((data.shape[1] - 1, 1))\n",
        "    \n",
        "    for col in range(data.shape[1] - 1):\n",
        "        gains[col] = gain_ratio(data, col)\n",
        "        \n",
        "    split = np.argmax(gains)\n",
        "    \n",
        "    node = Node(metadata[split])    \n",
        "    metadata = np.delete(metadata, split, 0)    \n",
        "    \n",
        "    items, dict = subtables(data, split, delete=True)\n",
        "    \n",
        "    for x in range(items.shape[0]):\n",
        "        child = create_node(dict[items[x]], metadata)\n",
        "        node.children.append((items[x], child))\n",
        "    \n",
        "    return node"
      ],
      "execution_count": null,
      "outputs": []
    },
    {
      "cell_type": "code",
      "metadata": {
        "id": "vKyTkc_LYoJ1"
      },
      "source": [
        "def empty(size):\n",
        "    s = \"\"\n",
        "    for x in range(size):\n",
        "        s += \"   \"\n",
        "    return s\n",
        "\n",
        "def print_tree(node, level):\n",
        "    if node.answer != \"\":\n",
        "        print(empty(level), node.answer)\n",
        "        return\n",
        "    print(empty(level), node.attribute)\n",
        "    for value, n in node.children:\n",
        "        print(empty(level + 1), value)\n",
        "        print_tree(n, level + 2)"
      ],
      "execution_count": null,
      "outputs": []
    },
    {
      "cell_type": "code",
      "metadata": {
        "colab": {
          "base_uri": "https://localhost:8080/"
        },
        "id": "tfWhV-ZGYs2d",
        "outputId": "5c5539c9-80e4-4f44-acbc-57eb88774798"
      },
      "source": [
        "metadata, traindata = read_data(\"naive.csv\")\n",
        "data = np.array(traindata)\n",
        "node = create_node(data, metadata)\n",
        "print_tree(node, 0)"
      ],
      "execution_count": null,
      "outputs": [
        {
          "output_type": "stream",
          "name": "stdout",
          "text": [
            " Outlook\n",
            "    Overcast\n",
            "       b'Yes'\n",
            "    Rainy\n",
            "       Windy\n",
            "          b'FALSE'\n",
            "             b'Yes'\n",
            "          b'TRUE'\n",
            "             b'No'\n",
            "    Sunny\n",
            "       Humidity\n",
            "          b'High'\n",
            "             b'No'\n",
            "          b'Normal'\n",
            "             b'Yes'\n"
          ]
        }
      ]
    }
  ]
}