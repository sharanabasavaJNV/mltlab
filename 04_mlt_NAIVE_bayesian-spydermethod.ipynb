{
  "nbformat": 4,
  "nbformat_minor": 0,
  "metadata": {
    "colab": {
      "name": "Untitled4.ipynb",
      "provenance": [],
      "authorship_tag": "ABX9TyMeES/RxOQfwyKL/NLN6Fvb",
      "include_colab_link": true
    },
    "kernelspec": {
      "name": "python3",
      "display_name": "Python 3"
    },
    "language_info": {
      "name": "python"
    }
  },
  "cells": [
    {
      "cell_type": "markdown",
      "metadata": {
        "id": "view-in-github",
        "colab_type": "text"
      },
      "source": [
        "<a href=\"https://colab.research.google.com/github/sharanabasavaJNV/mltlab/blob/main/NAIVE-spydermethod.ipynb\" target=\"_parent\"><img src=\"https://colab.research.google.com/assets/colab-badge.svg\" alt=\"Open In Colab\"/></a>"
      ]
    },
    {
      "cell_type": "code",
      "metadata": {
        "id": "zENVvIUngIE5"
      },
      "source": [
        "import numpy as np\n",
        "import math\n",
        "import pandas as pd\n",
        "import csv\n"
      ],
      "execution_count": 7,
      "outputs": []
    },
    {
      "cell_type": "code",
      "metadata": {
        "colab": {
          "base_uri": "https://localhost:8080/"
        },
        "id": "BApY6sOrgN14",
        "outputId": "27874f5e-873e-4a33-f6c1-b1f7e9861d8f"
      },
      "source": [
        "import pandas as pd\n",
        "data = pd.read_csv('/content/naive.csv')\n",
        "print(\"The first 5 values of data is :\\n\",data.head())"
      ],
      "execution_count": 10,
      "outputs": [
        {
          "output_type": "stream",
          "name": "stdout",
          "text": [
            "The first 5 values of data is :\n",
            "     Outlook Temperature Humidity  Windy PlayTennis\n",
            "0     Sunny         Hot     High  False         No\n",
            "1     Sunny         Hot     High   True         No\n",
            "2  Overcast         Hot     High  False        Yes\n",
            "3     Rainy        Mild     High  False        Yes\n",
            "4     Rainy        Cool   Normal  False        Yes\n"
          ]
        }
      ]
    },
    {
      "cell_type": "code",
      "metadata": {
        "colab": {
          "base_uri": "https://localhost:8080/"
        },
        "id": "gZd4LNb1hGXS",
        "outputId": "034c35a3-88bb-497f-f8c8-ccd3e0bb031e"
      },
      "source": [
        "X = data.iloc[:,:-1]\n",
        "print(\"\\nThe First 5 values of train data is\\n\",X.head())\n",
        "y = data.iloc[:,-1]\n",
        "print(\"\\nThe first 5 values of Train output is\\n\",y.head())"
      ],
      "execution_count": 11,
      "outputs": [
        {
          "output_type": "stream",
          "name": "stdout",
          "text": [
            "\n",
            "The First 5 values of train data is\n",
            "     Outlook Temperature Humidity  Windy\n",
            "0     Sunny         Hot     High  False\n",
            "1     Sunny         Hot     High   True\n",
            "2  Overcast         Hot     High  False\n",
            "3     Rainy        Mild     High  False\n",
            "4     Rainy        Cool   Normal  False\n",
            "\n",
            "The first 5 values of Train output is\n",
            " 0     No\n",
            "1     No\n",
            "2    Yes\n",
            "3    Yes\n",
            "4    Yes\n",
            "Name: PlayTennis, dtype: object\n"
          ]
        }
      ]
    },
    {
      "cell_type": "code",
      "metadata": {
        "id": "Yl8KxbXggfUH"
      },
      "source": [
        "from sklearn.preprocessing import LabelEncoder\n",
        "le_outlook = LabelEncoder()\n",
        "X.Outlook = le_outlook.fit_transform(X.Outlook)\n",
        "le_Temperature = LabelEncoder()\n",
        "X.Temperature = le_Temperature.fit_transform(X.Temperature)\n",
        "le_Humidity = LabelEncoder()\n",
        "X.Humidity = le_Humidity.fit_transform(X.Humidity)\n",
        "le_Windy = LabelEncoder()\n",
        "X.Windy = le_Windy.fit_transform(X.Windy)\n"
      ],
      "execution_count": 17,
      "outputs": []
    },
    {
      "cell_type": "code",
      "metadata": {
        "colab": {
          "base_uri": "https://localhost:8080/"
        },
        "id": "ol6JIqrYhqfd",
        "outputId": "b8bb379a-23ae-4453-e628-c1797a0f56e3"
      },
      "source": [
        "from sklearn.preprocessing import LabelEncoder\n",
        "print(\"\\nNow the Train data is :\\n\",X.head())\n",
        "le_PlayTennis = LabelEncoder()\n",
        "y = le_PlayTennis.fit_transform(y)\n",
        "print(\"\\nNow the Train output is\\n\",y)"
      ],
      "execution_count": 18,
      "outputs": [
        {
          "output_type": "stream",
          "name": "stdout",
          "text": [
            "\n",
            "Now the Train data is :\n",
            "    Outlook  Temperature  Humidity  Windy\n",
            "0        2            1         0      0\n",
            "1        2            1         0      1\n",
            "2        0            1         0      0\n",
            "3        1            2         0      0\n",
            "4        1            0         1      0\n",
            "\n",
            "Now the Train output is\n",
            " [0 0 1 1 1 0 1 0 1 1 1 1 1 0]\n"
          ]
        }
      ]
    },
    {
      "cell_type": "code",
      "metadata": {
        "colab": {
          "base_uri": "https://localhost:8080/"
        },
        "id": "dl3YdMf9hs0F",
        "outputId": "27eabc9c-6425-40e6-8860-26a2d63a436b"
      },
      "source": [
        "from sklearn.model_selection import train_test_split\n",
        "from sklearn.naive_bayes import GaussianNB\n",
        "X_train, X_test, y_train, y_test = train_test_split(X,y, test_size=0.20)\n",
        "classifier = GaussianNB()\n",
        "classifier.fit(X_train,y_train)"
      ],
      "execution_count": 20,
      "outputs": [
        {
          "output_type": "execute_result",
          "data": {
            "text/plain": [
              "GaussianNB()"
            ]
          },
          "metadata": {},
          "execution_count": 20
        }
      ]
    },
    {
      "cell_type": "code",
      "metadata": {
        "colab": {
          "base_uri": "https://localhost:8080/"
        },
        "id": "ivx8UgmThzYt",
        "outputId": "5e17408e-b938-4016-9bde-03d53314f8b1"
      },
      "source": [
        "from sklearn.metrics import accuracy_score\n",
        "print(\"Accuracy is:\",accuracy_score(classifier.predict(X_test),y_test))"
      ],
      "execution_count": 23,
      "outputs": [
        {
          "output_type": "stream",
          "name": "stdout",
          "text": [
            "Accuracy is: 0.3333333333333333\n"
          ]
        }
      ]
    }
  ]
}
