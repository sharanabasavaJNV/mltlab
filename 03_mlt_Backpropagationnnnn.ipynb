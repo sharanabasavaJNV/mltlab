{
  "nbformat": 4,
  "nbformat_minor": 0,
  "metadata": {
    "colab": {
      "name": "Untitled9.ipynb",
      "provenance": [],
      "authorship_tag": "ABX9TyMevpttQYVh5khXsHjpA4+4",
      "include_colab_link": true
    },
    "kernelspec": {
      "name": "python3",
      "display_name": "Python 3"
    },
    "language_info": {
      "name": "python"
    }
  },
  "cells": [
    {
      "cell_type": "markdown",
      "metadata": {
        "id": "view-in-github",
        "colab_type": "text"
      },
      "source": [
        "<a href=\"https://colab.research.google.com/github/sharanabasavaJNV/mltlab/blob/main/Backpropagationnnnnnnnnnnnnn.ipynb\" target=\"_parent\"><img src=\"https://colab.research.google.com/assets/colab-badge.svg\" alt=\"Open In Colab\"/></a>"
      ]
    },
    {
      "cell_type": "code",
      "execution_count": 1,
      "metadata": {
        "id": "yFXCM7A-NaUk"
      },
      "outputs": [],
      "source": [
        "from sklearn import datasets\n",
        "from sklearn.preprocessing import StandardScaler\n",
        "from sklearn.model_selection import train_test_split\n",
        "\n",
        "from keras.models import Sequential\n",
        "from keras.layers import Dense"
      ]
    },
    {
      "cell_type": "code",
      "source": [
        "model = Sequential()\n",
        "layer1 = Dense(units=32, activation='relu', input_dim=30)\n",
        "model.add(layer1)\n",
        "model.add(Dense(units=16, activation='relu'))\n",
        "model.add(Dense(units=1, activation='sigmoid'))\n",
        "model.compile(optimizer='adam', loss='binary_crossentropy', metrics=['accuracy'])\n",
        "cancer = datasets.load_breast_cancer()\n",
        "x_train, x_test, y_train, y_test = train_test_split(cancer.data, cancer.target, test_size=0.2, random_state=0)\n",
        "\n",
        "sc = StandardScaler()\n",
        "x_train = sc.fit_transform(x_train)\n",
        "x_test = sc.transform(x_test)"
      ],
      "metadata": {
        "id": "bYqF6Y4JPcZT"
      },
      "execution_count": 2,
      "outputs": []
    },
    {
      "cell_type": "code",
      "source": [
        "model.fit(x_train, y_train, epochs=20, validation_data=(x_test, y_test), batch_size=50)"
      ],
      "metadata": {
        "colab": {
          "base_uri": "https://localhost:8080/"
        },
        "id": "u-hPG_kSPfBi",
        "outputId": "345d18d0-b91a-4653-acef-bcde099ae4cd"
      },
      "execution_count": 3,
      "outputs": [
        {
          "output_type": "stream",
          "name": "stdout",
          "text": [
            "Epoch 1/20\n",
            "10/10 [==============================] - 1s 26ms/step - loss: 0.7174 - accuracy: 0.4989 - val_loss: 0.6123 - val_accuracy: 0.7456\n",
            "Epoch 2/20\n",
            "10/10 [==============================] - 0s 6ms/step - loss: 0.5352 - accuracy: 0.8462 - val_loss: 0.4667 - val_accuracy: 0.8860\n",
            "Epoch 3/20\n",
            "10/10 [==============================] - 0s 6ms/step - loss: 0.4157 - accuracy: 0.9187 - val_loss: 0.3653 - val_accuracy: 0.9123\n",
            "Epoch 4/20\n",
            "10/10 [==============================] - 0s 5ms/step - loss: 0.3303 - accuracy: 0.9407 - val_loss: 0.2973 - val_accuracy: 0.9211\n",
            "Epoch 5/20\n",
            "10/10 [==============================] - 0s 5ms/step - loss: 0.2694 - accuracy: 0.9473 - val_loss: 0.2502 - val_accuracy: 0.9386\n",
            "Epoch 6/20\n",
            "10/10 [==============================] - 0s 7ms/step - loss: 0.2261 - accuracy: 0.9516 - val_loss: 0.2183 - val_accuracy: 0.9386\n",
            "Epoch 7/20\n",
            "10/10 [==============================] - 0s 7ms/step - loss: 0.1948 - accuracy: 0.9538 - val_loss: 0.1948 - val_accuracy: 0.9386\n",
            "Epoch 8/20\n",
            "10/10 [==============================] - 0s 7ms/step - loss: 0.1708 - accuracy: 0.9604 - val_loss: 0.1776 - val_accuracy: 0.9386\n",
            "Epoch 9/20\n",
            "10/10 [==============================] - 0s 8ms/step - loss: 0.1533 - accuracy: 0.9626 - val_loss: 0.1643 - val_accuracy: 0.9474\n",
            "Epoch 10/20\n",
            "10/10 [==============================] - 0s 7ms/step - loss: 0.1395 - accuracy: 0.9604 - val_loss: 0.1540 - val_accuracy: 0.9474\n",
            "Epoch 11/20\n",
            "10/10 [==============================] - 0s 5ms/step - loss: 0.1284 - accuracy: 0.9626 - val_loss: 0.1445 - val_accuracy: 0.9474\n",
            "Epoch 12/20\n",
            "10/10 [==============================] - 0s 5ms/step - loss: 0.1187 - accuracy: 0.9648 - val_loss: 0.1352 - val_accuracy: 0.9386\n",
            "Epoch 13/20\n",
            "10/10 [==============================] - 0s 5ms/step - loss: 0.1104 - accuracy: 0.9670 - val_loss: 0.1279 - val_accuracy: 0.9474\n",
            "Epoch 14/20\n",
            "10/10 [==============================] - 0s 7ms/step - loss: 0.1031 - accuracy: 0.9670 - val_loss: 0.1210 - val_accuracy: 0.9561\n",
            "Epoch 15/20\n",
            "10/10 [==============================] - 0s 5ms/step - loss: 0.0968 - accuracy: 0.9714 - val_loss: 0.1152 - val_accuracy: 0.9561\n",
            "Epoch 16/20\n",
            "10/10 [==============================] - 0s 6ms/step - loss: 0.0913 - accuracy: 0.9714 - val_loss: 0.1103 - val_accuracy: 0.9649\n",
            "Epoch 17/20\n",
            "10/10 [==============================] - 0s 6ms/step - loss: 0.0867 - accuracy: 0.9714 - val_loss: 0.1061 - val_accuracy: 0.9649\n",
            "Epoch 18/20\n",
            "10/10 [==============================] - 0s 6ms/step - loss: 0.0828 - accuracy: 0.9714 - val_loss: 0.1028 - val_accuracy: 0.9649\n",
            "Epoch 19/20\n",
            "10/10 [==============================] - 0s 7ms/step - loss: 0.0794 - accuracy: 0.9736 - val_loss: 0.1008 - val_accuracy: 0.9561\n",
            "Epoch 20/20\n",
            "10/10 [==============================] - 0s 7ms/step - loss: 0.0765 - accuracy: 0.9758 - val_loss: 0.0993 - val_accuracy: 0.9561\n"
          ]
        },
        {
          "output_type": "execute_result",
          "data": {
            "text/plain": [
              "<keras.callbacks.History at 0x7f0900b0c990>"
            ]
          },
          "metadata": {},
          "execution_count": 3
        }
      ]
    },
    {
      "cell_type": "code",
      "source": [
        "predictions = model.predict(x_test)\n",
        "predictions\n",
        "score = model.evaluate(x_test, y_test)\n",
        "score"
      ],
      "metadata": {
        "colab": {
          "base_uri": "https://localhost:8080/"
        },
        "id": "j8uk9shxPjz7",
        "outputId": "5f5eb9a5-5904-464b-c27d-ec91e86337fa"
      },
      "execution_count": 4,
      "outputs": [
        {
          "output_type": "stream",
          "name": "stdout",
          "text": [
            "4/4 [==============================] - 0s 3ms/step - loss: 0.0993 - accuracy: 0.9561\n"
          ]
        },
        {
          "output_type": "execute_result",
          "data": {
            "text/plain": [
              "[0.09930992126464844, 0.9561403393745422]"
            ]
          },
          "metadata": {},
          "execution_count": 4
        }
      ]
    }
  ]
}
